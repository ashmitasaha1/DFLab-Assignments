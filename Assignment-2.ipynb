{
 "cells": [
  {
   "cell_type": "code",
   "execution_count": 1,
   "id": "9a22618b",
   "metadata": {},
   "outputs": [],
   "source": [
    "import wave\n",
    "import numpy as np\n",
    "from scipy.io import wavfile\n",
    "from math import log10"
   ]
  },
  {
   "cell_type": "code",
   "execution_count": 2,
   "id": "c03f9e99",
   "metadata": {},
   "outputs": [],
   "source": [
    "def Encode():\n",
    "    print(\"Audio Steganography ENCODING\")\n",
    "    print(\"\")\n",
    "    file = input(\"Enter audio file: \")\n",
    "    song = wave.open(file, mode='rb')\n",
    "    nframes = song.getnframes()\n",
    "    frames = song.readframes(nframes)\n",
    "    frame_list = list(frames)\n",
    "    frame_byte = bytearray(frame_list)\n",
    "\n",
    "    data = input(\"Enter the secret message:-\")\n",
    "    res = ''.join(format(i, '08b') for i in bytearray(data, encoding='utf-8'))\n",
    "    data = data + '*^*^*'\n",
    "\n",
    "    results = []\n",
    "    for j in data:\n",
    "        bits = bin(ord(j))[2:].zfill(8)\n",
    "        results.extend([int(b) for b in bits])\n",
    "\n",
    "    k = 0\n",
    "    for i in range(0, len(results), 1):\n",
    "        res = bin(frame_byte[k])[2:].zfill(8)\n",
    "        if res[len(res) - 4] == results[i]:\n",
    "            frame_byte[k] = (frame_byte[k] & 253)\n",
    "        else:\n",
    "            frame_byte[k] = (frame_byte[k] & 253) | 2\n",
    "            frame_byte[k] = (frame_byte[k] & 254) | results[i]\n",
    "        k = k + 1\n",
    "    frame_modified = bytes(frame_byte)\n",
    "    \n",
    "    file_store = input(\"Enter audio file name to store encoded audio: \")\n",
    "    with wave.open(file_store, 'wb') as fd:\n",
    "        fd.setparams(song.getparams())\n",
    "        fd.writeframes(frame_modified)\n",
    "\n",
    "    song.close()\n",
    "    print(\"Succesfully encoded inside audio file.\")"
   ]
  },
  {
   "cell_type": "code",
   "execution_count": 3,
   "id": "04df5cb0",
   "metadata": {},
   "outputs": [],
   "source": [
    "def Decode():\n",
    "    print(\"Audio Steganography DECODING\")\n",
    "    print(\"\")\n",
    "    file = input(\"Enter the audio file to be decoded: \")\n",
    "    song = wave.open(file, mode='rb')\n",
    "    nframes = song.getnframes()\n",
    "    frames = song.readframes(nframes)\n",
    "    frame_list = list(frames)\n",
    "    frame_bytes = bytearray(frame_list)\n",
    "\n",
    "    extracted = \"\"\n",
    "    p = 0\n",
    "    for i in range(len(frame_bytes)):\n",
    "        if p == 1:\n",
    "            break\n",
    "        res = bin(frame_bytes[i])[2:].zfill(8)\n",
    "        if res[len(res) - 2] == 0:\n",
    "            extracted += res[len(res) - 4]\n",
    "        else:\n",
    "            extracted += res[len(res) - 1]\n",
    "\n",
    "        all_bytes = [extracted[i: i + 8] for i in range(0, len(extracted), 8)]\n",
    "        decode_data = \"\"\n",
    "        for byte in all_bytes:\n",
    "            decode_data += chr(int(byte, 2))\n",
    "            if decode_data[-5:] == '*^*^*':\n",
    "                print(\"The Encoded data was:\", decode_data[:-5])\n",
    "                p = 1\n",
    "                break"
   ]
  },
  {
   "cell_type": "code",
   "execution_count": 4,
   "id": "7255578c",
   "metadata": {},
   "outputs": [],
   "source": [
    "def PSNR(original, hidden):\n",
    "    hidden = np.resize(hidden, original.shape)\n",
    "    mse = np.mean((original - hidden) ** 2)\n",
    "    MAX = np.amax(original)\n",
    "    psnr = 10 * log10(MAX ** 2 / mse)\n",
    "    return psnr"
   ]
  },
  {
   "cell_type": "code",
   "execution_count": null,
   "id": "0c900f37",
   "metadata": {},
   "outputs": [],
   "source": [
    "def steganography(): \n",
    "    while(1):\n",
    "        n = int(input(\"Audio Steganography \\n1. Encode the data \\n2. Decode the data \\n3. PSNR Calculate\\nSelect the option: \"))  \n",
    "        if (n == 1):  \n",
    "            print(\"\\nEncoding...\")  \n",
    "            Encode()  \n",
    "  \n",
    "        elif (n == 2):  \n",
    "            print(\"\\nDecoding...\")  \n",
    "            Decode()\n",
    "            \n",
    "        elif (n==3):\n",
    "            original = input(\"Enter original image (with extension): \")  \n",
    "            hidden = input(\"Enter compressed image (with extension): \")  \n",
    "            fs1, original = wavfile.read(original)\n",
    "            fs2, hidden = wavfile.read(hidden)\n",
    "            value = PSNR(original, hidden)\n",
    "            print(f\"PSNR value is {value} dB\")      \n",
    "        else:  \n",
    "            print(\"Exiting....\")\n",
    "            break\n",
    "  \n",
    "steganography()  "
   ]
  },
  {
   "cell_type": "code",
   "execution_count": null,
   "id": "59837990",
   "metadata": {},
   "outputs": [],
   "source": []
  }
 ],
 "metadata": {
  "kernelspec": {
   "display_name": "Python 3 (ipykernel)",
   "language": "python",
   "name": "python3"
  },
  "language_info": {
   "codemirror_mode": {
    "name": "ipython",
    "version": 3
   },
   "file_extension": ".py",
   "mimetype": "text/x-python",
   "name": "python",
   "nbconvert_exporter": "python",
   "pygments_lexer": "ipython3",
   "version": "3.9.7"
  }
 },
 "nbformat": 4,
 "nbformat_minor": 5
}
