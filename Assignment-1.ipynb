{
  "nbformat": 4,
  "nbformat_minor": 0,
  "metadata": {
    "colab": {
      "provenance": []
    },
    "kernelspec": {
      "name": "python3",
      "display_name": "Python 3"
    },
    "language_info": {
      "name": "python"
    }
  },
  "cells": [
    {
      "cell_type": "markdown",
      "source": [
        "## How to execute in colab\n",
        "Upload image and secret key file  in the colab environment and then execute as per your required sections.\n",
        "\n",
        "\n",
        "## How to encode my image\n",
        "look for \"run here to encode\"\n",
        "\n",
        "## How to decode my image\n",
        "look for \"run here to decode\"\n"
      ],
      "metadata": {
        "id": "C461m6lsW0EI"
      }
    },
    {
      "cell_type": "markdown",
      "source": [
        "### Change paths aur secret text in the following"
      ],
      "metadata": {
        "id": "t6nm0sC5riIi"
      }
    },
    {
      "cell_type": "code",
      "source": [
        "input_image = input(\"Enter the path to input image\")\n",
        "output_image = input(\"Enter the path to output image\")\n",
        "delimiter = \"=====\"\n",
        "data_to_hide=input(\"Enter the secret data : \\n\")\n",
        "secret_data = data_to_hide + delimiter\n",
        "key = get_key()"
      ],
      "metadata": {
        "id": "DXcysbgxrhD4"
      },
      "execution_count": null,
      "outputs": []
    },
    {
      "cell_type": "markdown",
      "source": [
        "Imports"
      ],
      "metadata": {
        "id": "mU9kIwrsStdH"
      }
    },
    {
      "cell_type": "code",
      "execution_count": null,
      "metadata": {
        "id": "guwJDTcwPpsn"
      },
      "outputs": [],
      "source": [
        "import cv2\n",
        "import numpy as np"
      ]
    },
    {
      "cell_type": "markdown",
      "source": [
        "## Load Key"
      ],
      "metadata": {
        "id": "VsC0NSgASyFL"
      }
    },
    {
      "cell_type": "code",
      "source": [
        "def get_key():\n",
        "    myfile = open('/content/secret_key.txt', 'rt')\n",
        "    key1 = myfile.read()\n",
        "    myfile.close()\n",
        "    return key1\n"
      ],
      "metadata": {
        "id": "fYWsiClKP3IK"
      },
      "execution_count": null,
      "outputs": []
    },
    {
      "cell_type": "markdown",
      "source": [
        "## Convert To Binary"
      ],
      "metadata": {
        "id": "C2WxdYyES2Iv"
      }
    },
    {
      "cell_type": "code",
      "source": [
        "def to_bin(data):\n",
        "    \"\"\"Convert `data` to binary format as string\"\"\"\n",
        "    if isinstance(data, str):\n",
        "        return ''.join([ format(ord(i), \"08b\") for i in data ])\n",
        "    elif isinstance(data, bytes) or isinstance(data, np.ndarray):\n",
        "        return [ format(i, \"08b\") for i in data ]\n",
        "    elif isinstance(data, int) or isinstance(data, np.uint8):\n",
        "        return format(data, \"08b\")\n",
        "    else:\n",
        "        raise TypeError(\"Type not supported.\")"
      ],
      "metadata": {
        "id": "bf6_tBCiP7OI"
      },
      "execution_count": null,
      "outputs": []
    },
    {
      "cell_type": "markdown",
      "source": [
        "Common Operations"
      ],
      "metadata": {
        "id": "zW9CBZNusavs"
      }
    },
    {
      "cell_type": "code",
      "source": [
        "binary_secret_data = to_bin(secret_data)\n",
        "n = len(binary_secret_data)"
      ],
      "metadata": {
        "id": "tUkWIi8EsdZo"
      },
      "execution_count": null,
      "outputs": []
    },
    {
      "cell_type": "markdown",
      "source": [
        "# Encode The Data in Image"
      ],
      "metadata": {
        "id": "zkkvUO5vS54D"
      }
    },
    {
      "cell_type": "code",
      "source": [
        "def encode(key, image_name, secret_data):\n",
        "\n",
        "    image = cv2.imread(image_name)\n",
        "\n",
        "    n_bytes = image.shape[0] * image.shape[1] * 3 // 8\n",
        "    print(\"[*] Maximum bytes to encode:\", n_bytes)\n",
        "    if len(secret_data) > n_bytes:\n",
        "        raise ValueError(\"[!] Insufficient bytes, need bigger image or less data.\")\n",
        "    print(\"[*] Encoding data...\")\n",
        "\n",
        "\n",
        "\n",
        "    data_index = 0\n",
        "\n",
        "    binary_secret_data = to_bin(secret_data)\n",
        "    binary_key = to_bin(key)\n",
        "\n",
        "    enc_data = ([])\n",
        "    for i in range(0, len(binary_secret_data)):\n",
        "         enc_data.append(int(binary_secret_data[i]) ^ int(binary_key[i%8]))\n",
        "\n",
        "\n",
        "\n",
        "    data_len = len(enc_data)\n",
        "    for row in image:\n",
        "        for pixel in row:\n",
        "            r, g, b = to_bin(pixel)\n",
        "\n",
        "            if ((data_index < data_len) and (( int(r[-2]) ^ int(binary_key[(data_index)%8])) == 1)):\n",
        "                pixel[0] = int(r[:-1] + str(enc_data[data_index]), 2)\n",
        "                data_index += 1\n",
        "            if ((data_index < data_len) and (( int(g[-2]) ^ int(binary_key[(data_index)%8])) == 1)):\n",
        "\n",
        "                pixel[1] = int(g[:-1] + str(enc_data[data_index]), 2)\n",
        "                data_index += 1\n",
        "            if ((data_index < data_len) and (( int(b[-2]) ^ int(binary_key[(data_index)%8])) == 1)):\n",
        "\n",
        "                pixel[2] = int(b[:-1] + str(enc_data[data_index]), 2)\n",
        "                data_index += 1\n",
        "\n",
        "            if data_index >= data_len:\n",
        "                break\n",
        "    return image\n"
      ],
      "metadata": {
        "id": "ONyFVXZzQAVY"
      },
      "execution_count": null,
      "outputs": []
    },
    {
      "cell_type": "markdown",
      "source": [
        "## Run here to encode"
      ],
      "metadata": {
        "id": "HTH6JAulpXJT"
      }
    },
    {
      "cell_type": "code",
      "source": [
        "encoded_image = encode(key, image_name=input_image, secret_data=secret_data)\n",
        "print(\"Data encoded and Image generated\")\n",
        "\n",
        "cv2.imwrite(output_image, encoded_image)\n"
      ],
      "metadata": {
        "id": "HLMTEvfXpHSU"
      },
      "execution_count": null,
      "outputs": []
    },
    {
      "cell_type": "markdown",
      "source": [
        "# Decode The Data from Image"
      ],
      "metadata": {
        "id": "khhDF32FTICl"
      }
    },
    {
      "cell_type": "code",
      "source": [
        "def decode(key, image_name):\n",
        "    print(\"[+] Decoding...\")\n",
        "\n",
        "    image = cv2.imread(image_name)\n",
        "    binary_data = \"\"\n",
        "    data_index = 0\n",
        "    binary_key = to_bin(key)\n",
        "    for row in image:\n",
        "        for pixel in row:\n",
        "            r, g, b = to_bin(pixel)\n",
        "            if ((( int(r[-2]) ^ int(binary_key[(data_index)%8])) == 1)):\n",
        "\n",
        "                binary_data += r[-1]\n",
        "                data_index += 1\n",
        "            if ((( int(g[-2]) ^ int(binary_key[(data_index)%8]) ) == 1)):\n",
        "\n",
        "                binary_data += g[-1]\n",
        "                data_index += 1\n",
        "            if ((( int(b[-2]) ^ int(binary_key[(data_index)%8]) ) == 1)):\n",
        "\n",
        "                binary_data += b[-1]\n",
        "                data_index += 1\n",
        "\n",
        "            if data_index > n:\n",
        "                break\n",
        "\n",
        "    all_bytes = [ binary_data[i: i+8] for i in range(0, len(binary_data), 8) ]\n",
        "\n",
        "\n",
        "\n",
        "    dec_data = []\n",
        "\n",
        "    for i in range(0, len(all_bytes)-1):\n",
        "        dec_str = \"\"\n",
        "        for j in range(0,8):\n",
        "            dec_str += str(int(binary_data[i*8 + j]) ^ int(binary_key[j]))\n",
        "        dec_data.append(dec_str)\n",
        "\n",
        "\n",
        "\n",
        "    decoded_data = \"\"\n",
        "    for byte in dec_data:\n",
        "        decoded_data += chr(int(byte, 2))\n",
        "        if decoded_data[-5:] == '=====' :\n",
        "            break\n",
        "\n",
        "    return decoded_data[:-5]\n"
      ],
      "metadata": {
        "id": "8Q2-Py8QQDpc"
      },
      "execution_count": null,
      "outputs": []
    },
    {
      "cell_type": "markdown",
      "source": [
        "## Run here to decode image"
      ],
      "metadata": {
        "id": "M2JFsZbFp0vc"
      }
    },
    {
      "cell_type": "code",
      "source": [
        "key = get_key()\n",
        "decoded_data = decode(key, output_image)\n",
        "print(\"[+] Decoded data:\", decoded_data)"
      ],
      "metadata": {
        "id": "6y4NaPLBp9X_"
      },
      "execution_count": null,
      "outputs": []
    },
    {
      "cell_type": "markdown",
      "source": [
        "## Calculate PSNR"
      ],
      "metadata": {
        "id": "RW8D0lUWTUE8"
      }
    },
    {
      "cell_type": "code",
      "source": [
        "def calculate_PSNR(input_path,output_path):\n",
        "    input_image = cv2.imread(input_path)\n",
        "    output_image = cv2.imread( output_path)\n",
        "\n",
        "    psnr = cv2.PSNR(input_image, output_image)\n",
        "    print(psnr)\n"
      ],
      "metadata": {
        "id": "Vm8E1lH2QG3A"
      },
      "execution_count": null,
      "outputs": []
    },
    {
      "cell_type": "code",
      "source": [
        "calculate_PSNR(input_image, output_image)"
      ],
      "metadata": {
        "id": "Q3wY0vgBQJD3"
      },
      "execution_count": null,
      "outputs": []
    }
  ]
}